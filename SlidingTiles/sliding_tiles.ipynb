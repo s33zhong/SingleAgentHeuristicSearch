{
 "cells": [
  {
   "cell_type": "code",
   "execution_count": 1,
   "metadata": {
    "collapsed": true
   },
   "outputs": [],
   "source": [
    "import sliding_tiles as st\n",
    "import sliding_tiles_solver as sts"
   ]
  },
  {
   "cell_type": "code",
   "execution_count": 2,
   "outputs": [],
   "source": [
    "stp = st.SlidingTiles(4)"
   ],
   "metadata": {
    "collapsed": false
   }
  },
  {
   "cell_type": "code",
   "execution_count": 3,
   "outputs": [
    {
     "data": {
      "text/plain": "[2, 3, 1, 0]"
     },
     "execution_count": 3,
     "metadata": {},
     "output_type": "execute_result"
    }
   ],
   "source": [
    "stp.generate_random_state()"
   ],
   "metadata": {
    "collapsed": false
   }
  },
  {
   "cell_type": "code",
   "execution_count": 4,
   "outputs": [],
   "source": [
    "stp_solver = sts.SlidingTilesSolver(stp)"
   ],
   "metadata": {
    "collapsed": false
   }
  },
  {
   "cell_type": "code",
   "execution_count": 5,
   "outputs": [
    {
     "data": {
      "text/plain": "[1, 2, 3, 0]"
     },
     "execution_count": 5,
     "metadata": {},
     "output_type": "execute_result"
    }
   ],
   "source": [
    "stp_solver.sliding_tiles.goal"
   ],
   "metadata": {
    "collapsed": false
   }
  },
  {
   "cell_type": "code",
   "execution_count": 6,
   "outputs": [
    {
     "data": {
      "text/plain": "[1, 0, 3, 2]"
     },
     "execution_count": 6,
     "metadata": {},
     "output_type": "execute_result"
    }
   ],
   "source": [
    "random_state = stp.generate_random_state()\n",
    "random_state"
   ],
   "metadata": {
    "collapsed": false,
    "ExecuteTime": {
     "end_time": "2023-05-17T00:02:13.749937100Z",
     "start_time": "2023-05-17T00:02:13.731988400Z"
    }
   }
  },
  {
   "cell_type": "code",
   "execution_count": 7,
   "outputs": [
    {
     "data": {
      "text/plain": "True"
     },
     "execution_count": 7,
     "metadata": {},
     "output_type": "execute_result"
    }
   ],
   "source": [
    "stp.is_solvable(random_state)"
   ],
   "metadata": {
    "collapsed": false,
    "ExecuteTime": {
     "end_time": "2023-05-17T00:02:13.749937100Z",
     "start_time": "2023-05-17T00:02:13.738827800Z"
    }
   }
  },
  {
   "cell_type": "code",
   "execution_count": 8,
   "outputs": [
    {
     "name": "stdout",
     "output_type": "stream",
     "text": [
      "Iteration: 0, actions so far:　[]\n",
      "Current state: [1, 0, 3, 2]\n",
      "Current g-cost: 0\n",
      "Current h-cost: 1\n",
      "The result of the action up is False: \n",
      "The result of the action left is [0, 1, 3, 2]: \n",
      "Iteration: 1, action taken:　left\n",
      "Successor state: [0, 1, 3, 2]\n",
      "Successor g-cost: 1\n",
      "Successor h-cost: 2\n",
      "The result of the action right is False: \n",
      "The result of the action down is [1, 2, 3, 0]: \n",
      "Iteration: 1, action taken:　down\n",
      "Successor state: [1, 2, 3, 0]\n",
      "Successor g-cost: 1\n",
      "Successor h-cost: 0\n",
      "The puzzle is solved! The starting state is: [1, 0, 3, 2]\n"
     ]
    },
    {
     "data": {
      "text/plain": "(['down'], 1)"
     },
     "execution_count": 8,
     "metadata": {},
     "output_type": "execute_result"
    }
   ],
   "source": [
    "stp_solver.a_star(random_state, verbose=True)"
   ],
   "metadata": {
    "collapsed": false,
    "ExecuteTime": {
     "end_time": "2023-05-17T00:02:13.757752900Z",
     "start_time": "2023-05-17T00:02:13.743712500Z"
    }
   }
  },
  {
   "cell_type": "code",
   "execution_count": 10,
   "outputs": [
    {
     "name": "stdout",
     "output_type": "stream",
     "text": [
      "1 0 \n",
      "3 2 \n",
      "\n"
     ]
    }
   ],
   "source": [
    "print(stp_solver.visualize_board(random_state))"
   ],
   "metadata": {
    "collapsed": false,
    "ExecuteTime": {
     "end_time": "2023-05-17T00:02:28.795864400Z",
     "start_time": "2023-05-17T00:02:28.791956500Z"
    }
   }
  },
  {
   "cell_type": "code",
   "execution_count": 11,
   "outputs": [
    {
     "data": {
      "text/plain": "True"
     },
     "execution_count": 11,
     "metadata": {},
     "output_type": "execute_result"
    }
   ],
   "source": [
    "stp.is_solvable([1, 2, 3, 0], verbose=True)"
   ],
   "metadata": {
    "collapsed": false,
    "ExecuteTime": {
     "end_time": "2023-05-16T23:44:14.726924200Z",
     "start_time": "2023-05-16T23:44:14.720084500Z"
    }
   }
  },
  {
   "cell_type": "code",
   "execution_count": 14,
   "outputs": [
    {
     "name": "stdout",
     "output_type": "stream",
     "text": [
      "Inversion found: (2 > 1), total # of inversions: 0\n"
     ]
    },
    {
     "data": {
      "text/plain": "False"
     },
     "execution_count": 14,
     "metadata": {},
     "output_type": "execute_result"
    }
   ],
   "source": [
    "stp.is_solvable([2, 1, 0, 3], verbose=True)"
   ],
   "metadata": {
    "collapsed": false,
    "ExecuteTime": {
     "end_time": "2023-05-16T23:42:21.442712Z",
     "start_time": "2023-05-16T23:42:21.435872700Z"
    }
   }
  },
  {
   "cell_type": "code",
   "execution_count": 15,
   "outputs": [
    {
     "data": {
      "text/plain": "0"
     },
     "execution_count": 15,
     "metadata": {},
     "output_type": "execute_result"
    }
   ],
   "source": [
    "stp.manhattan_distance(state=[1, 0, 3, 2])"
   ],
   "metadata": {
    "collapsed": false,
    "ExecuteTime": {
     "end_time": "2023-05-16T23:44:39.712419400Z",
     "start_time": "2023-05-16T23:44:39.706556600Z"
    }
   }
  },
  {
   "cell_type": "code",
   "execution_count": null,
   "outputs": [],
   "source": [],
   "metadata": {
    "collapsed": false
   }
  }
 ],
 "metadata": {
  "kernelspec": {
   "display_name": "Python 3",
   "language": "python",
   "name": "python3"
  },
  "language_info": {
   "codemirror_mode": {
    "name": "ipython",
    "version": 2
   },
   "file_extension": ".py",
   "mimetype": "text/x-python",
   "name": "python",
   "nbconvert_exporter": "python",
   "pygments_lexer": "ipython2",
   "version": "2.7.6"
  }
 },
 "nbformat": 4,
 "nbformat_minor": 0
}
