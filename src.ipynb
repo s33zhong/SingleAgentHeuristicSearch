{
 "cells": [
  {
   "cell_type": "code",
   "execution_count": 1,
   "outputs": [],
   "source": [
    "import numpy as np\n",
    "from SlidingTiles import sliding_tiles\n",
    "from solver import Solver"
   ],
   "metadata": {
    "collapsed": false
   }
  },
  {
   "cell_type": "code",
   "execution_count": 2,
   "outputs": [],
   "source": [
    "stp = sliding_tiles.SlidingTiles(9)"
   ],
   "metadata": {
    "collapsed": false
   }
  },
  {
   "cell_type": "code",
   "execution_count": 3,
   "outputs": [],
   "source": [
    "heuristic = stp.manhattan_distance"
   ],
   "metadata": {
    "collapsed": false,
    "ExecuteTime": {
     "end_time": "2023-06-09T06:16:55.176120400Z",
     "start_time": "2023-06-09T06:16:55.173200600Z"
    }
   }
  },
  {
   "cell_type": "code",
   "execution_count": 4,
   "outputs": [
    {
     "data": {
      "text/plain": "True"
     },
     "execution_count": 4,
     "metadata": {},
     "output_type": "execute_result"
    }
   ],
   "source": [
    "random_state = stp.generate_random_state()\n",
    "# random_state = \"056382741\"\n",
    "stp.is_solvable(random_state)\n",
    "puzzle = stp\n",
    "# puzzle.set_start(puzzle.from_string(random_state))\n",
    "puzzle.set_start(random_state)"
   ],
   "metadata": {
    "collapsed": false,
    "ExecuteTime": {
     "end_time": "2023-06-09T06:16:55.623746600Z",
     "start_time": "2023-06-09T06:16:55.616385100Z"
    }
   }
  },
  {
   "cell_type": "code",
   "execution_count": 5,
   "outputs": [
    {
     "data": {
      "text/plain": "'056382741'"
     },
     "execution_count": 5,
     "metadata": {},
     "output_type": "execute_result"
    }
   ],
   "source": [
    "puzzle.to_string(puzzle.get_start())"
   ],
   "metadata": {
    "collapsed": false,
    "ExecuteTime": {
     "end_time": "2023-06-09T06:16:56.266650800Z",
     "start_time": "2023-06-09T06:16:56.260810800Z"
    }
   }
  },
  {
   "cell_type": "code",
   "execution_count": 6,
   "outputs": [],
   "source": [
    "solver = Solver(heuristic=heuristic, puzzle=puzzle)"
   ],
   "metadata": {
    "collapsed": false,
    "ExecuteTime": {
     "end_time": "2023-06-09T06:16:57.380728700Z",
     "start_time": "2023-06-09T06:16:57.375308500Z"
    }
   }
  },
  {
   "cell_type": "code",
   "execution_count": 7,
   "outputs": [],
   "source": [
    "path = solver.solve(algorithm='a_star', max_iteration = 50000)"
   ],
   "metadata": {
    "collapsed": false,
    "ExecuteTime": {
     "end_time": "2023-06-09T06:16:58.894053800Z",
     "start_time": "2023-06-09T06:16:58.016461100Z"
    }
   }
  },
  {
   "cell_type": "code",
   "execution_count": 8,
   "outputs": [
    {
     "data": {
      "text/plain": "(['[0, 5, 6, 3, 8, 2, 7, 4, 1]',\n  '[3, 5, 6, 0, 8, 2, 7, 4, 1]',\n  '[3, 5, 6, 7, 8, 2, 0, 4, 1]',\n  '[3, 5, 6, 7, 8, 2, 4, 0, 1]',\n  '[3, 5, 6, 7, 8, 2, 4, 1, 0]',\n  '[3, 5, 6, 7, 8, 0, 4, 1, 2]',\n  '[3, 5, 6, 7, 0, 8, 4, 1, 2]',\n  '[3, 5, 6, 7, 1, 8, 4, 0, 2]',\n  '[3, 5, 6, 7, 1, 8, 4, 2, 0]',\n  '[3, 5, 6, 7, 1, 0, 4, 2, 8]',\n  '[3, 5, 6, 7, 0, 1, 4, 2, 8]',\n  '[3, 5, 6, 7, 2, 1, 4, 0, 8]',\n  '[3, 5, 6, 7, 2, 1, 0, 4, 8]',\n  '[3, 5, 6, 0, 2, 1, 7, 4, 8]',\n  '[3, 5, 6, 2, 0, 1, 7, 4, 8]',\n  '[3, 5, 6, 2, 1, 0, 7, 4, 8]',\n  '[3, 5, 0, 2, 1, 6, 7, 4, 8]',\n  '[3, 0, 5, 2, 1, 6, 7, 4, 8]',\n  '[0, 3, 5, 2, 1, 6, 7, 4, 8]',\n  '[2, 3, 5, 0, 1, 6, 7, 4, 8]',\n  '[2, 3, 5, 1, 0, 6, 7, 4, 8]',\n  '[2, 3, 5, 1, 4, 6, 7, 0, 8]',\n  '[2, 3, 5, 1, 4, 6, 7, 8, 0]',\n  '[2, 3, 5, 1, 4, 0, 7, 8, 6]',\n  '[2, 3, 0, 1, 4, 5, 7, 8, 6]',\n  '[2, 0, 3, 1, 4, 5, 7, 8, 6]',\n  '[0, 2, 3, 1, 4, 5, 7, 8, 6]',\n  '[1, 2, 3, 0, 4, 5, 7, 8, 6]',\n  '[1, 2, 3, 4, 0, 5, 7, 8, 6]',\n  '[1, 2, 3, 4, 5, 0, 7, 8, 6]',\n  '[1, 2, 3, 4, 5, 6, 7, 8, 0]'],\n 26,\n 5473)"
     },
     "execution_count": 8,
     "metadata": {},
     "output_type": "execute_result"
    }
   ],
   "source": [
    "path"
   ],
   "metadata": {
    "collapsed": false,
    "ExecuteTime": {
     "end_time": "2023-06-09T06:17:01.891482600Z",
     "start_time": "2023-06-09T06:17:01.883563800Z"
    }
   }
  },
  {
   "cell_type": "code",
   "execution_count": 9,
   "outputs": [],
   "source": [
    "rounds = 20"
   ],
   "metadata": {
    "collapsed": false,
    "ExecuteTime": {
     "end_time": "2023-06-09T06:17:27.867868600Z",
     "start_time": "2023-06-09T06:17:27.862473Z"
    }
   }
  },
  {
   "cell_type": "code",
   "execution_count": 10,
   "outputs": [
    {
     "data": {
      "text/plain": "(21.45, 1151.95)"
     },
     "execution_count": 10,
     "metadata": {},
     "output_type": "execute_result"
    }
   ],
   "source": [
    "avg_len = np.zeros(rounds)\n",
    "avg_expansion = np.zeros(rounds)\n",
    "for i in range(rounds):\n",
    "    random_state = stp.generate_random_state()\n",
    "    # random_state = [1, 2, 3, 4, 5, 6, 7, 0, 8]\n",
    "    puzzle.set_start(random_state)\n",
    "    path = solver.solve(algorithm='a_star', max_iteration = 50000)\n",
    "    avg_len[i] = path[1]\n",
    "    avg_expansion[i] = path[2]\n",
    "avg_len.mean(), avg_expansion.mean()"
   ],
   "metadata": {
    "collapsed": false,
    "ExecuteTime": {
     "end_time": "2023-06-09T06:17:29.873822800Z",
     "start_time": "2023-06-09T06:17:28.138845900Z"
    }
   }
  },
  {
   "cell_type": "code",
   "execution_count": null,
   "outputs": [],
   "source": [
    "avg_len"
   ],
   "metadata": {
    "collapsed": false
   }
  },
  {
   "cell_type": "code",
   "execution_count": null,
   "outputs": [],
   "source": [],
   "metadata": {
    "collapsed": false
   }
  }
 ],
 "metadata": {
  "kernelspec": {
   "display_name": "Python 3",
   "language": "python",
   "name": "python3"
  },
  "language_info": {
   "codemirror_mode": {
    "name": "ipython",
    "version": 2
   },
   "file_extension": ".py",
   "mimetype": "text/x-python",
   "name": "python",
   "nbconvert_exporter": "python",
   "pygments_lexer": "ipython2",
   "version": "2.7.6"
  }
 },
 "nbformat": 4,
 "nbformat_minor": 0
}
