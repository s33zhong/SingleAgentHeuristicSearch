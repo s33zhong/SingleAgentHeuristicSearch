{
 "cells": [
  {
   "cell_type": "code",
   "execution_count": 6,
   "metadata": {
    "collapsed": true,
    "ExecuteTime": {
     "end_time": "2023-05-15T20:34:32.491735600Z",
     "start_time": "2023-05-15T20:34:32.237655200Z"
    }
   },
   "outputs": [],
   "source": [
    "import grid, grid_solver"
   ]
  },
  {
   "cell_type": "code",
   "execution_count": 7,
   "outputs": [],
   "source": [
    "g = grid.Grid()"
   ],
   "metadata": {
    "collapsed": false,
    "ExecuteTime": {
     "end_time": "2023-05-15T20:34:33.597587700Z",
     "start_time": "2023-05-15T20:34:33.580584700Z"
    }
   }
  },
  {
   "cell_type": "code",
   "execution_count": 8,
   "outputs": [],
   "source": [
    "obs = g.generate_random_obstacles(30)"
   ],
   "metadata": {
    "collapsed": false,
    "ExecuteTime": {
     "end_time": "2023-05-15T20:34:34.043233600Z",
     "start_time": "2023-05-15T20:34:34.026229600Z"
    }
   }
  },
  {
   "cell_type": "code",
   "execution_count": 9,
   "outputs": [],
   "source": [
    "solver = grid_solver.GridSolver(grid=g, obstacles=obs)"
   ],
   "metadata": {
    "collapsed": false,
    "ExecuteTime": {
     "end_time": "2023-05-15T20:34:34.291421700Z",
     "start_time": "2023-05-15T20:34:34.276417600Z"
    }
   }
  },
  {
   "cell_type": "code",
   "execution_count": 13,
   "outputs": [
    {
     "data": {
      "text/plain": "True"
     },
     "execution_count": 13,
     "metadata": {},
     "output_type": "execute_result"
    }
   ],
   "source": [
    "g.set_start((0,0), obstacles=obs)\n",
    "g.set_goal((6,0), obstacles=obs)"
   ],
   "metadata": {
    "collapsed": false,
    "ExecuteTime": {
     "end_time": "2023-05-15T20:34:41.699725900Z",
     "start_time": "2023-05-15T20:34:41.685722700Z"
    }
   }
  },
  {
   "cell_type": "code",
   "execution_count": 14,
   "outputs": [
    {
     "data": {
      "text/plain": "([(0, 0),\n  (1, 0),\n  (1, 1),\n  (2, 1),\n  (2, 2),\n  (3, 2),\n  (3, 3),\n  (4, 3),\n  (5, 3),\n  (5, 2),\n  (6, 2),\n  (6, 1),\n  (6, 0)],\n 12.0)"
     },
     "execution_count": 14,
     "metadata": {},
     "output_type": "execute_result"
    }
   ],
   "source": [
    "solver.a_star()"
   ],
   "metadata": {
    "collapsed": false,
    "ExecuteTime": {
     "end_time": "2023-05-15T20:34:42.203234500Z",
     "start_time": "2023-05-15T20:34:42.195233100Z"
    }
   }
  },
  {
   "cell_type": "code",
   "execution_count": 15,
   "outputs": [
    {
     "name": "stdout",
     "output_type": "stream",
     "text": [
      "S o x . x . G . x . \n",
      ". o o x . x o . x . \n",
      ". . o o x o o x x x \n",
      ". x . o o o x x . . \n",
      ". . . . . x x x . x \n",
      ". x . x . . . . . x \n",
      ". . x . . . . . x . \n",
      ". x . x . . x . . . \n",
      ". . . . . . x . . x \n",
      ". x . . . x x . . . \n"
     ]
    }
   ],
   "source": [
    "solver.visualize_path(solver.a_star()[0])"
   ],
   "metadata": {
    "collapsed": false,
    "ExecuteTime": {
     "end_time": "2023-05-15T20:34:43.172398800Z",
     "start_time": "2023-05-15T20:34:43.125422100Z"
    }
   }
  },
  {
   "cell_type": "code",
   "execution_count": 16,
   "outputs": [
    {
     "name": "stdout",
     "output_type": "stream",
     "text": [
      ". . x . x . . . x . \n",
      ". . . x . x . . x . \n",
      ". . . . x . . x x x \n",
      ". x . . . . x x . . \n",
      ". . . . . x x x . x \n",
      ". x . x . . . . . x \n",
      ". . x . . . . . x . \n",
      ". x . x . . x . . . \n",
      ". . . . . . x . . x \n",
      ". x . . . x x . . . \n"
     ]
    }
   ],
   "source": [
    "solver.visualize_obstacle(obs)"
   ],
   "metadata": {
    "collapsed": false,
    "ExecuteTime": {
     "end_time": "2023-05-15T20:34:47.851099300Z",
     "start_time": "2023-05-15T20:34:47.842098200Z"
    }
   }
  },
  {
   "cell_type": "code",
   "execution_count": null,
   "outputs": [],
   "source": [],
   "metadata": {
    "collapsed": false
   }
  }
 ],
 "metadata": {
  "kernelspec": {
   "display_name": "Python 3",
   "language": "python",
   "name": "python3"
  },
  "language_info": {
   "codemirror_mode": {
    "name": "ipython",
    "version": 2
   },
   "file_extension": ".py",
   "mimetype": "text/x-python",
   "name": "python",
   "nbconvert_exporter": "python",
   "pygments_lexer": "ipython2",
   "version": "2.7.6"
  }
 },
 "nbformat": 4,
 "nbformat_minor": 0
}
