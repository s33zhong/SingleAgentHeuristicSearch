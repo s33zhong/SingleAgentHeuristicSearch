{
 "cells": [
  {
   "cell_type": "code",
   "execution_count": 1,
   "metadata": {
    "collapsed": true,
    "ExecuteTime": {
     "end_time": "2023-05-18T19:15:42.231323500Z",
     "start_time": "2023-05-18T19:15:42.160138500Z"
    }
   },
   "outputs": [],
   "source": [
    "import grid, grid_solver"
   ]
  },
  {
   "cell_type": "code",
   "execution_count": 2,
   "outputs": [],
   "source": [
    "g = grid.Grid()"
   ],
   "metadata": {
    "collapsed": false,
    "ExecuteTime": {
     "end_time": "2023-05-18T19:15:42.234243800Z",
     "start_time": "2023-05-18T19:15:42.232297400Z"
    }
   }
  },
  {
   "cell_type": "code",
   "execution_count": 3,
   "outputs": [],
   "source": [
    "obs = g.generate_random_obstacles(30)"
   ],
   "metadata": {
    "collapsed": false,
    "ExecuteTime": {
     "end_time": "2023-05-18T19:15:42.239139600Z",
     "start_time": "2023-05-18T19:15:42.235217200Z"
    }
   }
  },
  {
   "cell_type": "code",
   "execution_count": 4,
   "outputs": [],
   "source": [
    "solver = grid_solver.GridSolver(grid=g, obstacles=obs)"
   ],
   "metadata": {
    "collapsed": false,
    "ExecuteTime": {
     "end_time": "2023-05-18T19:15:42.242286700Z",
     "start_time": "2023-05-18T19:15:42.239139600Z"
    }
   }
  },
  {
   "cell_type": "code",
   "execution_count": 17,
   "outputs": [
    {
     "data": {
      "text/plain": "True"
     },
     "execution_count": 17,
     "metadata": {},
     "output_type": "execute_result"
    }
   ],
   "source": [
    "g.set_start((0,0), obstacles=obs)\n",
    "g.set_goal((9,0), obstacles=obs)"
   ],
   "metadata": {
    "collapsed": false,
    "ExecuteTime": {
     "end_time": "2023-05-18T19:16:24.566894Z",
     "start_time": "2023-05-18T19:16:24.563000500Z"
    }
   }
  },
  {
   "cell_type": "code",
   "execution_count": 18,
   "outputs": [
    {
     "name": "stdout",
     "output_type": "stream",
     "text": [
      "Current state:  (0, 0)\n",
      "Current state:  (1, 0)\n",
      "Current state:  (1, 1)\n",
      "Current state:  (2, 1)\n",
      "Current state:  (2, 2)\n",
      "Current state:  (3, 2)\n",
      "Current state:  (3, 3)\n",
      "Current state:  (4, 3)\n",
      "Current state:  (5, 3)\n",
      "Current state:  (5, 2)\n",
      "Current state:  (6, 2)\n",
      "Current state:  (6, 1)\n",
      "Current state:  (7, 1)\n",
      "Current state:  (7, 0)\n",
      "Current state:  (6, 0)\n",
      "Current state:  (6, 0)\n",
      "Current state:  (5, 0)\n",
      "Current state:  (5, 0)\n",
      "Current state:  (4, 4)\n",
      "Current state:  (4, 5)\n",
      "Current state:  (5, 5)\n",
      "Current state:  (6, 5)\n",
      "Current state:  (7, 5)\n",
      "Current state:  (8, 5)\n",
      "Current state:  (8, 4)\n",
      "Current state:  (8, 3)\n",
      "Current state:  (9, 3)\n",
      "Current state:  (7, 6)\n",
      "Current state:  (6, 6)\n",
      "Current state:  (6, 6)\n",
      "Current state:  (3, 4)\n",
      "Current state:  (3, 4)\n",
      "Current state:  (5, 6)\n",
      "Current state:  (5, 6)\n",
      "Current state:  (5, 6)\n",
      "Current state:  (7, 7)\n",
      "Current state:  (8, 7)\n",
      "Current state:  (9, 7)\n",
      "Current state:  (9, 6)\n",
      "Current state:  (2, 3)\n",
      "Current state:  (2, 3)\n",
      "Current state:  (4, 6)\n",
      "Current state:  (4, 6)\n",
      "Current state:  (4, 6)\n",
      "Current state:  (4, 6)\n",
      "Current state:  (2, 4)\n",
      "Current state:  (2, 4)\n",
      "Current state:  (2, 4)\n",
      "Current state:  (2, 4)\n",
      "Current state:  (5, 7)\n",
      "Current state:  (5, 7)\n",
      "Current state:  (5, 7)\n",
      "Current state:  (8, 8)\n",
      "Current state:  (1, 2)\n",
      "Current state:  (1, 2)\n",
      "Current state:  (7, 8)\n",
      "Current state:  (7, 8)\n",
      "Current state:  (3, 6)\n",
      "Current state:  (3, 6)\n",
      "Current state:  (3, 6)\n",
      "Current state:  (3, 6)\n",
      "Current state:  (2, 5)\n",
      "Current state:  (2, 5)\n",
      "Current state:  (2, 5)\n",
      "Current state:  (2, 5)\n",
      "Current state:  (4, 7)\n",
      "Current state:  (4, 7)\n",
      "Current state:  (4, 7)\n",
      "Current state:  (4, 7)\n",
      "Current state:  (4, 7)\n",
      "Current state:  (4, 7)\n",
      "Current state:  (4, 7)\n",
      "Current state:  (1, 4)\n",
      "Current state:  (1, 4)\n",
      "Current state:  (1, 4)\n",
      "Current state:  (1, 4)\n",
      "Current state:  (5, 8)\n",
      "Current state:  (5, 8)\n",
      "Current state:  (5, 8)\n",
      "Current state:  (0, 1)\n",
      "Current state:  (0, 1)\n",
      "Current state:  (8, 9)\n",
      "Current state:  (9, 9)\n",
      "Current state:  (0, 2)\n",
      "Current state:  (0, 2)\n",
      "Current state:  (0, 2)\n",
      "Current state:  (0, 2)\n",
      "Current state:  (7, 9)\n",
      "Current state:  (7, 9)\n",
      "Current state:  (7, 9)\n",
      "Current state:  (4, 8)\n",
      "Current state:  (4, 8)\n",
      "Current state:  (4, 8)\n",
      "Current state:  (4, 8)\n",
      "Current state:  (4, 8)\n",
      "Current state:  (4, 8)\n",
      "Current state:  (4, 8)\n",
      "Current state:  (4, 8)\n",
      "Current state:  (4, 8)\n",
      "Current state:  (4, 8)\n",
      "S "
     ]
    },
    {
     "ename": "TypeError",
     "evalue": "argument of type 'bool' is not iterable",
     "output_type": "error",
     "traceback": [
      "\u001B[1;31m---------------------------------------------------------------------------\u001B[0m",
      "\u001B[1;31mTypeError\u001B[0m                                 Traceback (most recent call last)",
      "Cell \u001B[1;32mIn[18], line 1\u001B[0m\n\u001B[1;32m----> 1\u001B[0m \u001B[43msolver\u001B[49m\u001B[38;5;241;43m.\u001B[39;49m\u001B[43mvisualize_path\u001B[49m\u001B[43m(\u001B[49m\u001B[43msolver\u001B[49m\u001B[38;5;241;43m.\u001B[39;49m\u001B[43msolve\u001B[49m\u001B[43m(\u001B[49m\u001B[43m)\u001B[49m\u001B[43m[\u001B[49m\u001B[38;5;241;43m0\u001B[39;49m\u001B[43m]\u001B[49m\u001B[43m)\u001B[49m\n",
      "File \u001B[1;32m~\\AppData\\Roaming\\JetBrains\\DataSpell2023.1\\projects\\SingleAgentHeuristicSearch\\Grid Search\\grid_solver.py:25\u001B[0m, in \u001B[0;36mGridSolver.visualize_path\u001B[1;34m(self, path)\u001B[0m\n\u001B[0;32m     23\u001B[0m \u001B[38;5;28;01melif\u001B[39;00m (x, y) \u001B[38;5;241m==\u001B[39m \u001B[38;5;28mself\u001B[39m\u001B[38;5;241m.\u001B[39mgrid\u001B[38;5;241m.\u001B[39mget_goal():\n\u001B[0;32m     24\u001B[0m     \u001B[38;5;28mprint\u001B[39m(\u001B[38;5;124m'\u001B[39m\u001B[38;5;124mG \u001B[39m\u001B[38;5;124m'\u001B[39m, end\u001B[38;5;241m=\u001B[39m\u001B[38;5;124m'\u001B[39m\u001B[38;5;124m'\u001B[39m)\n\u001B[1;32m---> 25\u001B[0m \u001B[38;5;28;01melif\u001B[39;00m \u001B[43m(\u001B[49m\u001B[43mx\u001B[49m\u001B[43m,\u001B[49m\u001B[43m \u001B[49m\u001B[43my\u001B[49m\u001B[43m)\u001B[49m\u001B[43m \u001B[49m\u001B[38;5;129;43;01min\u001B[39;49;00m\u001B[43m \u001B[49m\u001B[43mpath\u001B[49m:\n\u001B[0;32m     26\u001B[0m     \u001B[38;5;28mprint\u001B[39m(\u001B[38;5;124m'\u001B[39m\u001B[38;5;124mo \u001B[39m\u001B[38;5;124m'\u001B[39m, end\u001B[38;5;241m=\u001B[39m\u001B[38;5;124m'\u001B[39m\u001B[38;5;124m'\u001B[39m)\n\u001B[0;32m     27\u001B[0m \u001B[38;5;28;01melif\u001B[39;00m (x, y) \u001B[38;5;129;01min\u001B[39;00m \u001B[38;5;28mself\u001B[39m\u001B[38;5;241m.\u001B[39mobstacles:\n",
      "\u001B[1;31mTypeError\u001B[0m: argument of type 'bool' is not iterable"
     ]
    }
   ],
   "source": [
    "solver.visualize_path(solver.solve()[0])"
   ],
   "metadata": {
    "collapsed": false,
    "ExecuteTime": {
     "end_time": "2023-05-18T19:16:25.192985800Z",
     "start_time": "2023-05-18T19:16:24.881234Z"
    }
   }
  },
  {
   "cell_type": "code",
   "execution_count": 19,
   "outputs": [
    {
     "name": "stdout",
     "output_type": "stream",
     "text": [
      "Current state:  (0, 0)\n",
      "Current state:  (1, 0)\n",
      "Current state:  (1, 1)\n",
      "Current state:  (2, 1)\n",
      "Current state:  (2, 2)\n",
      "Current state:  (3, 2)\n",
      "Current state:  (3, 3)\n",
      "Current state:  (4, 3)\n",
      "Current state:  (5, 3)\n",
      "Current state:  (5, 2)\n",
      "Current state:  (6, 2)\n",
      "Current state:  (6, 1)\n",
      "Current state:  (7, 1)\n",
      "Current state:  (7, 0)\n",
      "Current state:  (6, 0)\n",
      "Current state:  (6, 0)\n",
      "Current state:  (5, 0)\n",
      "Current state:  (5, 0)\n",
      "Current state:  (4, 4)\n",
      "Current state:  (4, 5)\n",
      "Current state:  (5, 5)\n",
      "Current state:  (6, 5)\n",
      "Current state:  (7, 5)\n",
      "Current state:  (8, 5)\n",
      "Current state:  (8, 4)\n",
      "Current state:  (8, 3)\n",
      "Current state:  (9, 3)\n",
      "Current state:  (7, 6)\n",
      "Current state:  (6, 6)\n",
      "Current state:  (6, 6)\n",
      "Current state:  (3, 4)\n",
      "Current state:  (3, 4)\n",
      "Current state:  (5, 6)\n",
      "Current state:  (5, 6)\n",
      "Current state:  (5, 6)\n",
      "Current state:  (7, 7)\n",
      "Current state:  (8, 7)\n",
      "Current state:  (9, 7)\n",
      "Current state:  (9, 6)\n",
      "Current state:  (2, 3)\n",
      "Current state:  (2, 3)\n",
      "Current state:  (4, 6)\n",
      "Current state:  (4, 6)\n",
      "Current state:  (4, 6)\n",
      "Current state:  (4, 6)\n",
      "Current state:  (2, 4)\n",
      "Current state:  (2, 4)\n",
      "Current state:  (2, 4)\n",
      "Current state:  (2, 4)\n",
      "Current state:  (5, 7)\n",
      "Current state:  (5, 7)\n",
      "Current state:  (5, 7)\n",
      "Current state:  (8, 8)\n",
      "Current state:  (1, 2)\n",
      "Current state:  (1, 2)\n",
      "Current state:  (7, 8)\n",
      "Current state:  (7, 8)\n",
      "Current state:  (3, 6)\n",
      "Current state:  (3, 6)\n",
      "Current state:  (3, 6)\n",
      "Current state:  (3, 6)\n",
      "Current state:  (2, 5)\n",
      "Current state:  (2, 5)\n",
      "Current state:  (2, 5)\n",
      "Current state:  (2, 5)\n",
      "Current state:  (4, 7)\n",
      "Current state:  (4, 7)\n",
      "Current state:  (4, 7)\n",
      "Current state:  (4, 7)\n",
      "Current state:  (4, 7)\n",
      "Current state:  (4, 7)\n",
      "Current state:  (4, 7)\n",
      "Current state:  (1, 4)\n",
      "Current state:  (1, 4)\n",
      "Current state:  (1, 4)\n",
      "Current state:  (1, 4)\n",
      "Current state:  (5, 8)\n",
      "Current state:  (5, 8)\n",
      "Current state:  (5, 8)\n",
      "Current state:  (0, 1)\n",
      "Current state:  (0, 1)\n",
      "Current state:  (8, 9)\n",
      "Current state:  (9, 9)\n",
      "Current state:  (0, 2)\n",
      "Current state:  (0, 2)\n",
      "Current state:  (0, 2)\n",
      "Current state:  (0, 2)\n",
      "Current state:  (7, 9)\n",
      "Current state:  (7, 9)\n",
      "Current state:  (7, 9)\n",
      "Current state:  (4, 8)\n",
      "Current state:  (4, 8)\n",
      "Current state:  (4, 8)\n",
      "Current state:  (4, 8)\n",
      "Current state:  (4, 8)\n",
      "Current state:  (4, 8)\n",
      "Current state:  (4, 8)\n",
      "Current state:  (4, 8)\n",
      "Current state:  (4, 8)\n",
      "Current state:  (4, 8)\n"
     ]
    }
   ],
   "source": [
    "path = solver.solve()[0]"
   ],
   "metadata": {
    "collapsed": false,
    "ExecuteTime": {
     "end_time": "2023-05-18T19:16:28.129245800Z",
     "start_time": "2023-05-18T19:16:28.125323600Z"
    }
   }
  },
  {
   "cell_type": "code",
   "execution_count": 21,
   "outputs": [
    {
     "data": {
      "text/plain": "False"
     },
     "execution_count": 21,
     "metadata": {},
     "output_type": "execute_result"
    }
   ],
   "source": [
    "path"
   ],
   "metadata": {
    "collapsed": false,
    "ExecuteTime": {
     "end_time": "2023-05-18T19:16:49.760149700Z",
     "start_time": "2023-05-18T19:16:49.758156600Z"
    }
   }
  },
  {
   "cell_type": "code",
   "execution_count": 20,
   "outputs": [
    {
     "name": "stdout",
     "output_type": "stream",
     "text": [
      "S "
     ]
    },
    {
     "ename": "TypeError",
     "evalue": "argument of type 'bool' is not iterable",
     "output_type": "error",
     "traceback": [
      "\u001B[1;31m---------------------------------------------------------------------------\u001B[0m",
      "\u001B[1;31mTypeError\u001B[0m                                 Traceback (most recent call last)",
      "Cell \u001B[1;32mIn[20], line 1\u001B[0m\n\u001B[1;32m----> 1\u001B[0m \u001B[43msolver\u001B[49m\u001B[38;5;241;43m.\u001B[39;49m\u001B[43mvisualize_path\u001B[49m\u001B[43m(\u001B[49m\u001B[43mpath\u001B[49m\u001B[43m)\u001B[49m\n",
      "File \u001B[1;32m~\\AppData\\Roaming\\JetBrains\\DataSpell2023.1\\projects\\SingleAgentHeuristicSearch\\Grid Search\\grid_solver.py:25\u001B[0m, in \u001B[0;36mGridSolver.visualize_path\u001B[1;34m(self, path)\u001B[0m\n\u001B[0;32m     23\u001B[0m \u001B[38;5;28;01melif\u001B[39;00m (x, y) \u001B[38;5;241m==\u001B[39m \u001B[38;5;28mself\u001B[39m\u001B[38;5;241m.\u001B[39mgrid\u001B[38;5;241m.\u001B[39mget_goal():\n\u001B[0;32m     24\u001B[0m     \u001B[38;5;28mprint\u001B[39m(\u001B[38;5;124m'\u001B[39m\u001B[38;5;124mG \u001B[39m\u001B[38;5;124m'\u001B[39m, end\u001B[38;5;241m=\u001B[39m\u001B[38;5;124m'\u001B[39m\u001B[38;5;124m'\u001B[39m)\n\u001B[1;32m---> 25\u001B[0m \u001B[38;5;28;01melif\u001B[39;00m \u001B[43m(\u001B[49m\u001B[43mx\u001B[49m\u001B[43m,\u001B[49m\u001B[43m \u001B[49m\u001B[43my\u001B[49m\u001B[43m)\u001B[49m\u001B[43m \u001B[49m\u001B[38;5;129;43;01min\u001B[39;49;00m\u001B[43m \u001B[49m\u001B[43mpath\u001B[49m:\n\u001B[0;32m     26\u001B[0m     \u001B[38;5;28mprint\u001B[39m(\u001B[38;5;124m'\u001B[39m\u001B[38;5;124mo \u001B[39m\u001B[38;5;124m'\u001B[39m, end\u001B[38;5;241m=\u001B[39m\u001B[38;5;124m'\u001B[39m\u001B[38;5;124m'\u001B[39m)\n\u001B[0;32m     27\u001B[0m \u001B[38;5;28;01melif\u001B[39;00m (x, y) \u001B[38;5;129;01min\u001B[39;00m \u001B[38;5;28mself\u001B[39m\u001B[38;5;241m.\u001B[39mobstacles:\n",
      "\u001B[1;31mTypeError\u001B[0m: argument of type 'bool' is not iterable"
     ]
    }
   ],
   "source": [
    "solver.visualize_path(path)"
   ],
   "metadata": {
    "collapsed": false,
    "ExecuteTime": {
     "end_time": "2023-05-18T19:16:33.293394700Z",
     "start_time": "2023-05-18T19:16:33.279148600Z"
    }
   }
  },
  {
   "cell_type": "code",
   "execution_count": 4,
   "outputs": [
    {
     "data": {
      "text/plain": "1"
     },
     "execution_count": 4,
     "metadata": {},
     "output_type": "execute_result"
    }
   ],
   "source": [
    "m"
   ],
   "metadata": {
    "collapsed": false,
    "ExecuteTime": {
     "end_time": "2023-05-18T05:15:14.014792100Z",
     "start_time": "2023-05-18T05:15:14.002990600Z"
    }
   }
  },
  {
   "cell_type": "code",
   "execution_count": 5,
   "outputs": [
    {
     "data": {
      "text/plain": "2"
     },
     "execution_count": 5,
     "metadata": {},
     "output_type": "execute_result"
    }
   ],
   "source": [
    "n"
   ],
   "metadata": {
    "collapsed": false,
    "ExecuteTime": {
     "end_time": "2023-05-18T05:15:15.016067500Z",
     "start_time": "2023-05-18T05:15:15.006469800Z"
    }
   }
  },
  {
   "cell_type": "code",
   "execution_count": null,
   "outputs": [],
   "source": [],
   "metadata": {
    "collapsed": false
   }
  }
 ],
 "metadata": {
  "kernelspec": {
   "display_name": "Python 3",
   "language": "python",
   "name": "python3"
  },
  "language_info": {
   "codemirror_mode": {
    "name": "ipython",
    "version": 2
   },
   "file_extension": ".py",
   "mimetype": "text/x-python",
   "name": "python",
   "nbconvert_exporter": "python",
   "pygments_lexer": "ipython2",
   "version": "2.7.6"
  }
 },
 "nbformat": 4,
 "nbformat_minor": 0
}
