{
 "cells": [
  {
   "cell_type": "code",
   "execution_count": 1,
   "outputs": [],
   "source": [
    "import numpy as np\n",
    "import RubiksCube.lehmer_ranking as lr\n",
    "import base_ranking as br\n",
    "import RubiksCube.cube as cube"
   ],
   "metadata": {
    "collapsed": false,
    "ExecuteTime": {
     "end_time": "2023-06-01T03:30:46.407124900Z",
     "start_time": "2023-06-01T03:30:46.315426Z"
    }
   }
  },
  {
   "cell_type": "code",
   "execution_count": 12,
   "outputs": [],
   "source": [
    "c = cube.RubiksCube()"
   ],
   "metadata": {
    "collapsed": false,
    "ExecuteTime": {
     "end_time": "2023-06-01T03:40:36.770475800Z",
     "start_time": "2023-06-01T03:40:36.765079900Z"
    }
   }
  },
  {
   "cell_type": "code",
   "execution_count": 14,
   "outputs": [],
   "source": [
    "seq = c.generate_scramble(3, 42)"
   ],
   "metadata": {
    "collapsed": false,
    "ExecuteTime": {
     "end_time": "2023-06-01T03:40:37.222979600Z",
     "start_time": "2023-06-01T03:40:37.217111400Z"
    }
   }
  },
  {
   "cell_type": "code",
   "execution_count": 15,
   "outputs": [
    {
     "data": {
      "text/plain": "True"
     },
     "execution_count": 15,
     "metadata": {},
     "output_type": "execute_result"
    }
   ],
   "source": [
    "c.twist_sequence(seq)"
   ],
   "metadata": {
    "collapsed": false,
    "ExecuteTime": {
     "end_time": "2023-06-01T03:40:44.323056Z",
     "start_time": "2023-06-01T03:40:44.317187600Z"
    }
   }
  },
  {
   "cell_type": "code",
   "execution_count": 16,
   "outputs": [
    {
     "data": {
      "text/plain": "array(['f', 'L2', 'u'], dtype='<U2')"
     },
     "execution_count": 16,
     "metadata": {},
     "output_type": "execute_result"
    }
   ],
   "source": [
    "seq"
   ],
   "metadata": {
    "collapsed": false,
    "ExecuteTime": {
     "end_time": "2023-06-01T03:40:44.788165600Z",
     "start_time": "2023-06-01T03:40:44.783287Z"
    }
   }
  },
  {
   "cell_type": "code",
   "execution_count": 17,
   "outputs": [
    {
     "data": {
      "text/plain": "(['Blue_Orange_Yellow',\n  'Green_Yellow',\n  'Green_Red_Yellow',\n  'White_Red',\n  'White_Red_Blue',\n  'White_Blue',\n  'White_Orange_Green',\n  'Orange_Yellow'],\n ['Green_Yellow', 'Red_Blue', 'White_Green', 'Blue_Orange'],\n ['Green_Orange_Yellow',\n  'Red_Yellow',\n  'Red_Blue_Yellow',\n  'Blue_Yellow',\n  'White_Green_Red',\n  'White_Orange',\n  'White_Blue_Orange',\n  'Green_Orange'])"
     },
     "execution_count": 17,
     "metadata": {},
     "output_type": "execute_result"
    }
   ],
   "source": [
    "c.show_cube_color()"
   ],
   "metadata": {
    "collapsed": false,
    "ExecuteTime": {
     "end_time": "2023-06-01T03:40:45.673096Z",
     "start_time": "2023-06-01T03:40:45.668984800Z"
    }
   }
  },
  {
   "cell_type": "code",
   "execution_count": 8,
   "outputs": [],
   "source": [
    "c.reset_cube()"
   ],
   "metadata": {
    "collapsed": false,
    "ExecuteTime": {
     "end_time": "2023-06-01T02:16:03.409769800Z",
     "start_time": "2023-06-01T02:16:03.406832200Z"
    }
   }
  },
  {
   "cell_type": "code",
   "execution_count": 9,
   "outputs": [
    {
     "data": {
      "text/plain": "True"
     },
     "execution_count": 9,
     "metadata": {},
     "output_type": "execute_result"
    }
   ],
   "source": [
    "c.random_scramble(5, 42)"
   ],
   "metadata": {
    "collapsed": false,
    "ExecuteTime": {
     "end_time": "2023-06-01T02:16:13.480080300Z",
     "start_time": "2023-06-01T02:16:13.476795900Z"
    }
   }
  },
  {
   "cell_type": "code",
   "execution_count": 10,
   "outputs": [
    {
     "data": {
      "text/plain": "(['Green_Orange_Yellow',\n  'Green_Yellow',\n  'White_Red_Blue',\n  'Red_Blue',\n  'White_Green_Red',\n  'White_Blue',\n  'Blue_Orange_Yellow',\n  'Green_Orange'],\n ['Green_Orange', 'Blue_Yellow', 'White_Red', 'Orange_Yellow'],\n ['White_Blue_Orange',\n  'Red_Yellow',\n  'Green_Red_Yellow',\n  'White_Green',\n  'Red_Blue_Yellow',\n  'White_Orange',\n  'White_Orange_Green',\n  'Blue_Orange'])"
     },
     "execution_count": 10,
     "metadata": {},
     "output_type": "execute_result"
    }
   ],
   "source": [
    "c.show_cube_color()"
   ],
   "metadata": {
    "collapsed": false,
    "ExecuteTime": {
     "end_time": "2023-06-01T02:16:15.299673300Z",
     "start_time": "2023-06-01T02:16:15.296737100Z"
    }
   }
  },
  {
   "cell_type": "code",
   "execution_count": null,
   "outputs": [],
   "source": [],
   "metadata": {
    "collapsed": false
   }
  }
 ],
 "metadata": {
  "kernelspec": {
   "display_name": "Python 3",
   "language": "python",
   "name": "python3"
  },
  "language_info": {
   "codemirror_mode": {
    "name": "ipython",
    "version": 2
   },
   "file_extension": ".py",
   "mimetype": "text/x-python",
   "name": "python",
   "nbconvert_exporter": "python",
   "pygments_lexer": "ipython2",
   "version": "2.7.6"
  }
 },
 "nbformat": 4,
 "nbformat_minor": 0
}
